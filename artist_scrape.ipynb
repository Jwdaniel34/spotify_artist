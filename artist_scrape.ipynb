{
 "cells": [
  {
   "cell_type": "code",
   "execution_count": 17,
   "metadata": {},
   "outputs": [],
   "source": [
    "import sys\n",
    "import os\n",
    "import configparser\n",
    "import spotipy\n",
    "import spotipy.util as util\n",
    "import spotipy.oauth2 as oauth2\n",
    "import requests\n",
    "import json\n",
    "import config\n",
    "import time\n",
    "import pandas as pd\n",
    "import numpy as np\n",
    "from json.decoder import JSONDecodeError\n",
    "from spotipy.oauth2 import SpotifyClientCredentials"
   ]
  },
  {
   "cell_type": "code",
   "execution_count": 4,
   "metadata": {},
   "outputs": [],
   "source": [
    "client_credentials_manager = SpotifyClientCredentials(client_id=config.client_id, \n",
    "                                                          client_secret=\n",
    "                                                          config.client_secret)\n",
    "sp = spotipy.Spotify(client_credentials_manager=client_credentials_manager)"
   ]
  },
  {
   "cell_type": "code",
   "execution_count": 185,
   "metadata": {},
   "outputs": [],
   "source": [
    "# get song ids, given a playlist ID, username and the length of the playlist\n",
    "def get_song_ids(playlistID, playlist_length):\n",
    "    song_ids = []\n",
    "\n",
    "    # need to paginate (only 100 ids given per request)\n",
    "    for i in range(0, playlist_length, 100):\n",
    "        song_ids.extend([x['track']['id'] for x in \n",
    "                       sp.user_playlist_tracks(config.username, \n",
    "                                               playlistID, offset=i, \n",
    "                                               fields='items(track(id))')['items']])\n",
    "        time.sleep(.35)\n",
    "    return song_ids"
   ]
  },
  {
   "cell_type": "code",
   "execution_count": 130,
   "metadata": {
    "code_folding": []
   },
   "outputs": [],
   "source": [
    "# get song features, given list of ids to get the features of\n",
    "def get_features(ids):\n",
    "    features = []\n",
    "    i=0\n",
    "    for track_id_list in ids:\n",
    "    # can only get 50 at a time\n",
    "        while i < len(ids):\n",
    "            features.extend(sp.audio_features(tracks=track_id_list[i:i+50]))\n",
    "            i += 50\n",
    "            time.sleep(.35)\n",
    "\n",
    "        # above will only run if len(ids) > 50\n",
    "        if len(ids) <= 50:\n",
    "            features.extend(sp.audio_features(tracks=track_id_list))\n",
    "\n",
    "    return features"
   ]
  },
  {
   "cell_type": "code",
   "execution_count": 187,
   "metadata": {},
   "outputs": [],
   "source": [
    "def get_track_objects(track_ids):\n",
    "    tracks_info = []\n",
    "    for track_id_list in track_ids:\n",
    "        info = sp.tracks(track_id_list)\n",
    "        tracks_info.append(info)\n",
    "    return tracks_info"
   ]
  },
  {
   "cell_type": "code",
   "execution_count": 188,
   "metadata": {},
   "outputs": [],
   "source": [
    "#Create a function to collect the tracks info for a given list of ids\n",
    "def get_track_objects(track_ids):\n",
    "    tracks_info = []\n",
    "    for track_id_list in track_ids:\n",
    "        info = sp.tracks(track_id_list)\n",
    "        tracks_info.append(info)\n",
    "    return tracks_info"
   ]
  },
  {
   "cell_type": "code",
   "execution_count": 186,
   "metadata": {},
   "outputs": [],
   "source": [
    "#Use the artist and track to find a song id\n",
    "def get_track_id(artist_name,track_name):\n",
    "    results = sp.search(\"artist: \" + artist_name + \", track: \" + track_name)\n",
    "    return results['tracks']['items'][0]['uri']"
   ]
  },
  {
   "cell_type": "code",
   "execution_count": 172,
   "metadata": {},
   "outputs": [],
   "source": [
    "def get_artist_id(artist_name):\n",
    "    results = sp.search(\"artist:\"+artist_name)\n",
    "    artist_id = results['tracks']['items'][0]['artists'][0]['uri']\n",
    "    return artist_id"
   ]
  },
  {
   "cell_type": "code",
   "execution_count": 273,
   "metadata": {},
   "outputs": [],
   "source": [
    "def get_albums_id(artist_id, limit=50):\n",
    "    albums_ids = []\n",
    "    for artist_  in artist_id:\n",
    "        albums = sp.artist_albums(artist_,country=\"US\", limit=limit)\n",
    "        album_id = [album['uri'].strip('spotify:album:') for album in albums['items']]\n",
    "        albums_ids.extend(album_id)\n",
    "    print(albums_ids)\n",
    "    return album_ids"
   ]
  },
  {
   "cell_type": "code",
   "execution_count": 174,
   "metadata": {},
   "outputs": [],
   "source": [
    "mykle_lowry = '0JmShn6UeNuPx16P5CmRMQ'"
   ]
  },
  {
   "cell_type": "code",
   "execution_count": 274,
   "metadata": {},
   "outputs": [],
   "source": [
    "lst = [fergie_baby, mykle_lowry]"
   ]
  },
  {
   "cell_type": "code",
   "execution_count": 331,
   "metadata": {},
   "outputs": [],
   "source": [
    "albums = sp.artist_albums(fergie_baby,country=\"US\", limit=50)\n",
    "album_ids = [album['uri'].strip('spotify:album:') for album in albums['items']]"
   ]
  },
  {
   "cell_type": "code",
   "execution_count": 307,
   "metadata": {},
   "outputs": [
    {
     "name": "stdout",
     "output_type": "stream",
     "text": [
      "['00xvtlRuMv0PVNmuc0WgB8', '7fAPTIRoEp7ZKjU3paNgBK', '4h59IBRhc1vFa6egR8N2XU', '3Md8MLrjVF8TBE1HRZ6or2', '6mNskfgdELss3okGXPBj6C', '0JS0Yq79Jg30gAFy7RaWbk', '0NU0jRCXAr343DtGWTlJCF', '1UTiQHKwQRlK59KKCuVCdw', '2Pv3kgX3wFEXk5LLLSCzE', '1ETECVibld1abNYqKkJNW', '6PFdoOc8LiwJxV6X6jyGS5', '606jg2kXuvBb2ivlQc3B8g', '3qC1IaQlmg5DU4TgYf4gQI', '73rnL4a3Lw5AlqkyvD2jcY']\n"
     ]
    }
   ],
   "source": [
    "albums_ids = get_albums_id(lst, 50)"
   ]
  },
  {
   "cell_type": "code",
   "execution_count": 334,
   "metadata": {
    "scrolled": false
   },
   "outputs": [
    {
     "name": "stdout",
     "output_type": "stream",
     "text": [
      "2Pv3kgX3wFEXk5LLLSCzE\n",
      "1ETECVibld1abNYqKkJNW\n"
     ]
    }
   ],
   "source": [
    "all_tracks = []\n",
    "for album_id in album_ids:\n",
    "    try: \n",
    "        tracks = sp.album_tracks(album_id, limit=50)\n",
    "        all_tracks.append(tracks)\n",
    "    except:\n",
    "        print(album_id)"
   ]
  },
  {
   "cell_type": "code",
   "execution_count": 333,
   "metadata": {},
   "outputs": [
    {
     "data": {
      "text/plain": [
       "10"
      ]
     },
     "execution_count": 333,
     "metadata": {},
     "output_type": "execute_result"
    }
   ],
   "source": [
    "len(all_tracks)"
   ]
  },
  {
   "cell_type": "code",
   "execution_count": 311,
   "metadata": {},
   "outputs": [],
   "source": [
    "track_ids = []\n",
    "for tracks in all_tracks:\n",
    "    album_tracks = []\n",
    "    for track in tracks.get('items'):\n",
    "        album_tracks.append(track.get('uri'))\n",
    "    track_ids.append(album_tracks)"
   ]
  },
  {
   "cell_type": "code",
   "execution_count": 313,
   "metadata": {},
   "outputs": [
    {
     "data": {
      "text/plain": [
       "10"
      ]
     },
     "execution_count": 313,
     "metadata": {},
     "output_type": "execute_result"
    }
   ],
   "source": [
    "len(track_ids)"
   ]
  },
  {
   "cell_type": "code",
   "execution_count": 293,
   "metadata": {},
   "outputs": [],
   "source": [
    "track_objects = []\n",
    "for track_id_list in track_ids:\n",
    "    tracks = sp.tracks(track_id_list)\n",
    "    track_objects.append(tracks)"
   ]
  },
  {
   "cell_type": "code",
   "execution_count": 314,
   "metadata": {},
   "outputs": [
    {
     "data": {
      "text/plain": [
       "10"
      ]
     },
     "execution_count": 314,
     "metadata": {},
     "output_type": "execute_result"
    }
   ],
   "source": [
    "len(track_objects)"
   ]
  },
  {
   "cell_type": "code",
   "execution_count": 315,
   "metadata": {},
   "outputs": [],
   "source": [
    "audio_feature_objects = []\n",
    "for track_id_list in track_ids:\n",
    "    features = sp.audio_features(track_id_list)\n",
    "    audio_feature_objects.append(features)"
   ]
  },
  {
   "cell_type": "code",
   "execution_count": 316,
   "metadata": {},
   "outputs": [
    {
     "data": {
      "text/plain": [
       "10"
      ]
     },
     "execution_count": 316,
     "metadata": {},
     "output_type": "execute_result"
    }
   ],
   "source": [
    "len(audio_feature_objects)"
   ]
  },
  {
   "cell_type": "code",
   "execution_count": 319,
   "metadata": {},
   "outputs": [],
   "source": [
    "track_features = pd.DataFrame(get_features(track_ids))"
   ]
  },
  {
   "cell_type": "code",
   "execution_count": 321,
   "metadata": {},
   "outputs": [],
   "source": [
    "spotify_data = {\n",
    "    \"audio_features\": audio_feature_objects,\n",
    "    \"tracks\": track_objects}"
   ]
  },
  {
   "cell_type": "code",
   "execution_count": 328,
   "metadata": {},
   "outputs": [
    {
     "data": {
      "text/plain": [
       "[{'danceability': 0.815,\n",
       "  'energy': 0.583,\n",
       "  'key': 2,\n",
       "  'loudness': -5.708,\n",
       "  'mode': 1,\n",
       "  'speechiness': 0.49,\n",
       "  'acousticness': 0.191,\n",
       "  'instrumentalness': 0,\n",
       "  'liveness': 0.112,\n",
       "  'valence': 0.357,\n",
       "  'tempo': 146.1,\n",
       "  'type': 'audio_features',\n",
       "  'id': '1nN1pkVuHsJIF8mwUV8ucF',\n",
       "  'uri': 'spotify:track:1nN1pkVuHsJIF8mwUV8ucF',\n",
       "  'track_href': 'https://api.spotify.com/v1/tracks/1nN1pkVuHsJIF8mwUV8ucF',\n",
       "  'analysis_url': 'https://api.spotify.com/v1/audio-analysis/1nN1pkVuHsJIF8mwUV8ucF',\n",
       "  'duration_ms': 178469,\n",
       "  'time_signature': 4}]"
      ]
     },
     "execution_count": 328,
     "metadata": {},
     "output_type": "execute_result"
    }
   ],
   "source": [
    "album_features"
   ]
  },
  {
   "cell_type": "code",
   "execution_count": 297,
   "metadata": {},
   "outputs": [],
   "source": [
    "#Reformatting from a dictionary to a table\n",
    "df = pd.DataFrame(columns=[\n",
    "    'name',\n",
    "    'duration_ms',\n",
    "    'popularity',\n",
    "    'num_markets',\n",
    "    'album',\n",
    "    'disc_number',\n",
    "    'is_explicit',\n",
    "    'track_number',\n",
    "    'release_date',\n",
    "    'artist',\n",
    "    'danceability',\n",
    "    'energy',\n",
    "    'key',\n",
    "    'loudness',\n",
    "    'mode',\n",
    "    'speechiness',\n",
    "    'acousticness',\n",
    "    'instrumentalness',\n",
    "    'liveness',\n",
    "    'valence',\n",
    "    'tempo',\n",
    "    'time_signature',\n",
    "])\n",
    "\n",
    "for album_info, album_features in zip(\n",
    "        spotify_data.get('tracks'), \n",
    "        spotify_data.get('audio_features')\n",
    "        ):\n",
    "    for track_info, track_features in zip(\n",
    "        album_info.get('tracks'),\n",
    "        album_features\n",
    "        ):\n",
    "        y = {\n",
    "            'name': track_info['name'],\n",
    "            'duration_ms': track_info['duration_ms'],\n",
    "            'popularity': track_info['popularity'],\n",
    "            'num_markets': len(track_info['available_markets']),\n",
    "            'album': track_info['album']['name'],\n",
    "            'disc_number': track_info['disc_number'],\n",
    "            'is_explicit': track_info['explicit'],\n",
    "            'track_number': track_info['track_number'],\n",
    "            'release_date': track_info['album']['release_date'],\n",
    "            'artist': track_info['artists'][0]['name'],\n",
    "            'danceability': track_features['danceability'],\n",
    "            'energy': track_features['energy'],\n",
    "            'key': track_features['key'],\n",
    "            'loudness': track_features['loudness'],\n",
    "            'mode': track_features['mode'],\n",
    "            'speechiness': track_features['speechiness'],\n",
    "            'acousticness': track_features['acousticness'],\n",
    "            'instrumentalness': track_features['instrumentalness'],\n",
    "            'liveness': track_features['liveness'],\n",
    "            'valence': track_features['valence'],\n",
    "            'tempo': track_features['tempo'],\n",
    "            'time_signature': track_features['time_signature'],\n",
    "        }\n",
    "        df = df.append(y, ignore_index=True)"
   ]
  },
  {
   "cell_type": "code",
   "execution_count": 318,
   "metadata": {},
   "outputs": [
    {
     "data": {
      "text/plain": [
       "44"
      ]
     },
     "execution_count": 318,
     "metadata": {},
     "output_type": "execute_result"
    }
   ],
   "source": [
    "len(df)"
   ]
  },
  {
   "cell_type": "code",
   "execution_count": null,
   "metadata": {},
   "outputs": [],
   "source": []
  },
  {
   "cell_type": "code",
   "execution_count": null,
   "metadata": {},
   "outputs": [],
   "source": []
  }
 ],
 "metadata": {
  "kernelspec": {
   "display_name": "Python 3",
   "language": "python",
   "name": "python3"
  },
  "language_info": {
   "codemirror_mode": {
    "name": "ipython",
    "version": 3
   },
   "file_extension": ".py",
   "mimetype": "text/x-python",
   "name": "python",
   "nbconvert_exporter": "python",
   "pygments_lexer": "ipython3",
   "version": "3.7.3"
  }
 },
 "nbformat": 4,
 "nbformat_minor": 2
}
